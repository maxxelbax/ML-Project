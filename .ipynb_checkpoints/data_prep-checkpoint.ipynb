{
 "cells": [
  {
   "cell_type": "markdown",
   "metadata": {},
   "source": [
    "# Prepare data from raw zip (only once)"
   ]
  },
  {
   "cell_type": "code",
   "execution_count": 1,
   "metadata": {},
   "outputs": [],
   "source": [
    "import pandas as pd\n",
    "from zipfile import ZipFile\n",
    "import shutil\n",
    "from os import listdir, rename, makedirs\n",
    "from tqdm.notebook import tqdm"
   ]
  },
  {
   "cell_type": "code",
   "execution_count": 1,
   "metadata": {},
   "outputs": [],
   "source": [
    "# loading the temp.zip and creating a zip object\n",
    "with ZipFile('data/hot_or_not_image_and_rating_data.zip', 'r') as zObject:\n",
    "    # Extracting all the members of the zip\n",
    "    zObject.extractall(path='data')"
   ]
  },
  {
   "cell_type": "code",
   "execution_count": 10,
   "metadata": {
    "collapsed": true
   },
   "outputs": [
    {
     "data": {
      "application/vnd.jupyter.widget-view+json": {
       "model_id": "0157145ebb484053a077709a2b096a48",
       "version_major": 2,
       "version_minor": 0
      },
      "text/plain": [
       "  0%|          | 0/2001 [00:00<?, ?it/s]"
      ]
     },
     "metadata": {},
     "output_type": "display_data"
    },
    {
     "data": {
      "application/vnd.jupyter.widget-view+json": {
       "model_id": "5ed6816da23640e9bb08780192b4a303",
       "version_major": 2,
       "version_minor": 0
      },
      "text/plain": [
       "  0%|          | 0/2001 [00:00<?, ?it/s]"
      ]
     },
     "metadata": {},
     "output_type": "display_data"
    }
   ],
   "source": [
    "makedirs('data/images', exist_ok=True)\n",
    "makedirs('data/texts', exist_ok=True)\n",
    "path_dir = 'data'\n",
    "for gender in ('female', 'male'):\n",
    "    for file in tqdm(listdir(f'{path_dir}/{gender}')):\n",
    "        if file[-3:] == 'jpg':\n",
    "            file_type = 'images'\n",
    "        elif file[-3:] == 'txt':\n",
    "            file_type = 'texts'\n",
    "        else:\n",
    "            continue\n",
    "        shutil.copy(f'{path_dir}/{gender}/{file}', f'{path_dir}/{file_type}/{file}')\n",
    "        rename(f'{path_dir}/{file_type}/{file}', f'{path_dir}/{file_type}/{gender[0]}_{file}')"
   ]
  },
  {
   "cell_type": "markdown",
   "metadata": {},
   "source": [
    "# Create and save Dataframe with biography information"
   ]
  },
  {
   "cell_type": "code",
   "execution_count": 6,
   "metadata": {},
   "outputs": [],
   "source": [
    "ratings = []\n",
    "n_ratings = []\n",
    "texts = []\n",
    "ids = []\n",
    "for file in listdir('data/texts'):\n",
    "    ids.append(file[:-4])\n",
    "    with open(f'data/texts/{file}', 'r') as f:\n",
    "        ratings.append(float(f.readline()))\n",
    "        n_ratings.append(int(f.readline()))\n",
    "        texts.append(f.readlines()[-1])"
   ]
  },
  {
   "cell_type": "code",
   "execution_count": 7,
   "metadata": {},
   "outputs": [],
   "source": [
    "df = pd.DataFrame(data={'id': ids, 'number_ratings': n_ratings, 'avg_rating': ratings, 'text': texts})"
   ]
  },
  {
   "cell_type": "code",
   "execution_count": 8,
   "metadata": {},
   "outputs": [
    {
     "name": "stdout",
     "output_type": "stream",
     "text": [
      "<class 'pandas.core.frame.DataFrame'>\n",
      "RangeIndex: 2000 entries, 0 to 1999\n",
      "Data columns (total 4 columns):\n",
      " #   Column          Non-Null Count  Dtype  \n",
      "---  ------          --------------  -----  \n",
      " 0   id              2000 non-null   object \n",
      " 1   number_ratings  2000 non-null   int64  \n",
      " 2   avg_rating      2000 non-null   float64\n",
      " 3   text            2000 non-null   object \n",
      "dtypes: float64(1), int64(1), object(2)\n",
      "memory usage: 62.6+ KB\n"
     ]
    }
   ],
   "source": [
    "df.info()"
   ]
  },
  {
   "cell_type": "code",
   "execution_count": 9,
   "metadata": {},
   "outputs": [],
   "source": [
    "df.to_parquet('data/text_data.parquet.gzip')"
   ]
  },
  {
   "cell_type": "code",
   "execution_count": null,
   "metadata": {},
   "outputs": [],
   "source": []
  }
 ],
 "metadata": {
  "kernelspec": {
   "display_name": "Python 3 (ipykernel)",
   "language": "python",
   "name": "python3"
  },
  "language_info": {
   "codemirror_mode": {
    "name": "ipython",
    "version": 3
   },
   "file_extension": ".py",
   "mimetype": "text/x-python",
   "name": "python",
   "nbconvert_exporter": "python",
   "pygments_lexer": "ipython3",
   "version": "3.11.5"
  }
 },
 "nbformat": 4,
 "nbformat_minor": 1
}
