{
 "cells": [
  {
   "cell_type": "code",
   "execution_count": 8,
   "metadata": {
    "collapsed": true
   },
   "outputs": [],
   "source": [
    "from tqdm.notebook import tqdm\n",
    "import numpy as np\n",
    "import re\n",
    "import pandas as pd"
   ]
  },
  {
   "cell_type": "markdown",
   "source": [
    "# Data analysis (biography)"
   ],
   "metadata": {
    "collapsed": false
   }
  },
  {
   "cell_type": "code",
   "execution_count": 9,
   "outputs": [],
   "source": [
    "df = pd.read_parquet('data/text_data.parquet.gzip')"
   ],
   "metadata": {
    "collapsed": false
   }
  },
  {
   "cell_type": "code",
   "execution_count": 10,
   "outputs": [],
   "source": [
    "df['split_text'] = df['text'].apply(lambda x: re.split(' |\\.|,|;|!|\\?|\\\"|/|\\(|\\)|\\[|]|&|:|-|\\' |=', x.lower()))"
   ],
   "metadata": {
    "collapsed": false
   }
  },
  {
   "cell_type": "code",
   "execution_count": 11,
   "outputs": [
    {
     "data": {
      "text/plain": "{'',\n '2',\n 'a',\n 'about',\n 'all',\n 'also',\n 'always',\n 'am',\n 'amp',\n 'an',\n 'and',\n 'any',\n 'anything',\n 'are',\n 'area',\n 'around',\n 'as',\n 'ask',\n 'at',\n 'back',\n 'be',\n 'beach',\n 'because',\n 'been',\n 'being',\n 'but',\n 'by',\n 'can',\n 'chat',\n 'click',\n 'college',\n 'cool',\n 'currently',\n 'do',\n \"don't\",\n 'dont',\n 'down',\n 'easy',\n 'else',\n 'enjoy',\n 'family',\n 'few',\n 'find',\n 'for',\n 'friend',\n 'friends',\n 'from',\n 'fun',\n 'funny',\n 'games',\n 'get',\n 'girl',\n 'girls',\n 'go',\n 'going',\n 'good',\n 'great',\n 'guy',\n 'guys',\n 'hang',\n 'have',\n 'having',\n 'hello',\n 'here',\n 'hey',\n 'hi',\n 'hit',\n 'honest',\n 'hot',\n 'how',\n 'i',\n \"i'm\",\n 'if',\n 'im',\n 'in',\n 'interested',\n 'into',\n 'is',\n 'it',\n 'just',\n 'keep',\n 'kids',\n 'know',\n 'laid',\n 'laugh',\n 'life',\n 'like',\n 'live',\n 'living',\n 'lol',\n 'look',\n 'looking',\n 'love',\n 'make',\n 'man',\n 'married',\n 'maybe',\n 'me',\n 'meet',\n 'meeting',\n 'message',\n 'more',\n 'most',\n 'movies',\n 'much',\n 'music',\n 'my',\n 'myself',\n 'name',\n 'never',\n 'new',\n 'nice',\n 'no',\n 'not',\n 'now',\n 'of',\n 'old',\n 'on',\n 'one',\n 'only',\n 'open',\n 'or',\n 'other',\n 'out',\n 'outdoors',\n 'outgoing',\n 'over',\n 'party',\n 'people',\n 'person',\n 'play',\n 'playing',\n 'please',\n 'pretty',\n 'quot',\n 'real',\n 'really',\n 'relationship',\n 'right',\n 'say',\n 'school',\n 'see',\n 'sense',\n 'single',\n 'so',\n 'some',\n 'someone',\n 'something',\n 'sports',\n 'take',\n 'talk',\n 'than',\n 'that',\n 'the',\n 'then',\n 'there',\n 'they',\n 'thing',\n 'things',\n 'think',\n 'this',\n 'time',\n 'to',\n 'too',\n 'travel',\n 'try',\n 'u',\n 'up',\n 'very',\n 'wanna',\n 'want',\n 'was',\n 'way',\n 'we',\n 'well',\n 'what',\n 'when',\n 'who',\n 'will',\n 'with',\n 'woman',\n 'work',\n 'working',\n 'world',\n 'would',\n 'year',\n 'years',\n 'yes',\n 'you',\n \"you're\",\n 'your'}"
     },
     "execution_count": 11,
     "metadata": {},
     "output_type": "execute_result"
    }
   ],
   "source": [
    "df_word_counts = df['split_text'].explode().value_counts()\n",
    "relevant_words = set(df_word_counts.loc[df_word_counts >= 50].index)\n",
    "relevant_words"
   ],
   "metadata": {
    "collapsed": false
   }
  },
  {
   "cell_type": "code",
   "execution_count": 12,
   "outputs": [],
   "source": [
    "word_ratings_temp = {}\n",
    "def word_to_rating(row):\n",
    "    for word in row['split_text']:\n",
    "        if word in word_ratings_temp:\n",
    "            word_ratings_temp[word].append(row['avg_rating'])\n",
    "        else:\n",
    "            word_ratings_temp[word] = [row['avg_rating']]"
   ],
   "metadata": {
    "collapsed": false
   }
  },
  {
   "cell_type": "code",
   "execution_count": 13,
   "outputs": [],
   "source": [
    "test = df.apply(lambda x: word_to_rating(x), axis=1)"
   ],
   "metadata": {
    "collapsed": false
   }
  },
  {
   "cell_type": "code",
   "execution_count": 14,
   "outputs": [],
   "source": [
    "word_ratings = {'word': [], 'avg_rating': []}\n",
    "for word, ratings in word_ratings_temp.items():\n",
    "    if word in relevant_words:\n",
    "        word_ratings['word'].append(word)\n",
    "        word_ratings['avg_rating'].append(np.mean(ratings))\n",
    "df_word_ratings = pd.DataFrame(word_ratings)"
   ],
   "metadata": {
    "collapsed": false
   }
  }
 ],
 "metadata": {
  "kernelspec": {
   "display_name": "Python 3",
   "language": "python",
   "name": "python3"
  },
  "language_info": {
   "codemirror_mode": {
    "name": "ipython",
    "version": 2
   },
   "file_extension": ".py",
   "mimetype": "text/x-python",
   "name": "python",
   "nbconvert_exporter": "python",
   "pygments_lexer": "ipython2",
   "version": "2.7.6"
  }
 },
 "nbformat": 4,
 "nbformat_minor": 0
}
