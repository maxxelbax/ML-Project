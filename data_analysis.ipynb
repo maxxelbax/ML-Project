{
 "cells": [
  {
   "cell_type": "code",
   "execution_count": 1,
   "metadata": {
    "collapsed": true
   },
   "outputs": [],
   "source": [
    "from tqdm.notebook import tqdm\n",
    "import numpy as np\n",
    "import re\n",
    "import pandas as pd"
   ]
  },
  {
   "cell_type": "markdown",
   "source": [
    "# Data analysis (biography)"
   ],
   "metadata": {
    "collapsed": false
   }
  },
  {
   "cell_type": "code",
   "execution_count": 2,
   "outputs": [],
   "source": [
    "df = pd.read_parquet('data/text_data.parquet.gzip')\n",
    "# df = df.loc[df['id'].str[0] == 'f']"
   ],
   "metadata": {
    "collapsed": false
   }
  },
  {
   "cell_type": "code",
   "execution_count": 3,
   "outputs": [],
   "source": [
    "df['split_text'] = df['text'].apply(lambda x: re.split(' |\\.|,|;|!|\\?|\\\"|/|\\(|\\)|\\[|]|&|:|-|\\' |=', x.lower()))"
   ],
   "metadata": {
    "collapsed": false
   }
  },
  {
   "cell_type": "code",
   "execution_count": 4,
   "outputs": [],
   "source": [
    "df_word_counts = df['split_text'].explode().value_counts()\n",
    "relevant_words = set(df_word_counts.loc[(df_word_counts >= 10) & (df_word_counts <= 500)].index)\n",
    "# relevant_words"
   ],
   "metadata": {
    "collapsed": false
   }
  },
  {
   "cell_type": "code",
   "execution_count": 5,
   "outputs": [],
   "source": [
    "word_ratings_temp = {}\n",
    "def word_to_rating(row):\n",
    "    for word in row['split_text']:\n",
    "        if word in word_ratings_temp:\n",
    "            word_ratings_temp[word].append(row['avg_rating'])\n",
    "        else:\n",
    "            word_ratings_temp[word] = [row['avg_rating']]"
   ],
   "metadata": {
    "collapsed": false
   }
  },
  {
   "cell_type": "code",
   "execution_count": 6,
   "outputs": [],
   "source": [
    "test = df.apply(lambda x: word_to_rating(x), axis=1)"
   ],
   "metadata": {
    "collapsed": false
   }
  },
  {
   "cell_type": "code",
   "execution_count": 7,
   "outputs": [],
   "source": [
    "word_ratings = {'word': [], 'avg_rating': []}\n",
    "for word, ratings in word_ratings_temp.items():\n",
    "    if word in relevant_words:\n",
    "        word_ratings['word'].append(word)\n",
    "        word_ratings['avg_rating'].append(np.mean(ratings))\n",
    "df_word_ratings = pd.DataFrame(word_ratings)"
   ],
   "metadata": {
    "collapsed": false
   }
  },
  {
   "cell_type": "code",
   "execution_count": 8,
   "outputs": [
    {
     "data": {
      "text/plain": "          id  number_ratings  avg_rating  \\\n185   f_0186           12455         9.8   \n367   f_0368            4970         9.8   \n522   f_0523           11558         9.2   \n695   f_0696            7324         9.8   \n834   f_0835           15289         9.4   \n862   f_0863            8427         9.4   \n1188  m_0189           11371         9.1   \n1425  m_0426             111         9.4   \n1649  m_0650            4055         8.9   \n1675  m_0676             785         9.6   \n1904  m_0905             178         9.3   \n1979  m_0980            3571         9.8   \n\n                                                   text  \\\n185   I'm a Dancer,Gymnastics,i play rugby,volleybal...   \n367   so i like sports i used to do cheerleading i l...   \n522   hey im jessica im 5 5 and yes i no im short i ...   \n695   Hey I'm Amanda. Im a very sweet, funny, and cu...   \n834   I'm an easy going person.  I like camping, tra...   \n862   I enjoy life, play guitar, love basketball, an...   \n1188  Hi Im Jason.  Im originally from Pittsburgh, P...   \n1425  My name is Isaac, im almost 20 and going to co...   \n1649  Hey What's up..I'm Jay. I like to hang out wit...   \n1675  utica, ny. interests include basketball, shawn...   \n1904  Well i am 6'2&quot; around 180 lbs.  I am from...   \n1979  I'm 5'10. I enjoy playing basketball and love ...   \n\n                                             split_text  \n185   [i'm, a, dancer, gymnastics, i, play, rugby, v...  \n367   [so, i, like, sports, i, used, to, do, cheerle...  \n522   [hey, im, jessica, im, 5, 5, and, yes, i, no, ...  \n695   [hey, i'm, amanda, , im, a, very, sweet, , fun...  \n834   [i'm, an, easy, going, person, , , i, like, ca...  \n862   [i, enjoy, life, , play, guitar, , love, baske...  \n1188  [hi, im, jason, , , im, originally, from, pitt...  \n1425  [my, name, is, isaac, , im, almost, 20, and, g...  \n1649  [hey, what's, up, , i'm, jay, , i, like, to, h...  \n1675  [utica, , ny, , interests, include, basketball...  \n1904  [well, i, am, 6'2, quot, , around, 180, lbs, ,...  \n1979  [i'm, 5'10, , i, enjoy, playing, basketball, a...  ",
      "text/html": "<div>\n<style scoped>\n    .dataframe tbody tr th:only-of-type {\n        vertical-align: middle;\n    }\n\n    .dataframe tbody tr th {\n        vertical-align: top;\n    }\n\n    .dataframe thead th {\n        text-align: right;\n    }\n</style>\n<table border=\"1\" class=\"dataframe\">\n  <thead>\n    <tr style=\"text-align: right;\">\n      <th></th>\n      <th>id</th>\n      <th>number_ratings</th>\n      <th>avg_rating</th>\n      <th>text</th>\n      <th>split_text</th>\n    </tr>\n  </thead>\n  <tbody>\n    <tr>\n      <th>185</th>\n      <td>f_0186</td>\n      <td>12455</td>\n      <td>9.8</td>\n      <td>I'm a Dancer,Gymnastics,i play rugby,volleybal...</td>\n      <td>[i'm, a, dancer, gymnastics, i, play, rugby, v...</td>\n    </tr>\n    <tr>\n      <th>367</th>\n      <td>f_0368</td>\n      <td>4970</td>\n      <td>9.8</td>\n      <td>so i like sports i used to do cheerleading i l...</td>\n      <td>[so, i, like, sports, i, used, to, do, cheerle...</td>\n    </tr>\n    <tr>\n      <th>522</th>\n      <td>f_0523</td>\n      <td>11558</td>\n      <td>9.2</td>\n      <td>hey im jessica im 5 5 and yes i no im short i ...</td>\n      <td>[hey, im, jessica, im, 5, 5, and, yes, i, no, ...</td>\n    </tr>\n    <tr>\n      <th>695</th>\n      <td>f_0696</td>\n      <td>7324</td>\n      <td>9.8</td>\n      <td>Hey I'm Amanda. Im a very sweet, funny, and cu...</td>\n      <td>[hey, i'm, amanda, , im, a, very, sweet, , fun...</td>\n    </tr>\n    <tr>\n      <th>834</th>\n      <td>f_0835</td>\n      <td>15289</td>\n      <td>9.4</td>\n      <td>I'm an easy going person.  I like camping, tra...</td>\n      <td>[i'm, an, easy, going, person, , , i, like, ca...</td>\n    </tr>\n    <tr>\n      <th>862</th>\n      <td>f_0863</td>\n      <td>8427</td>\n      <td>9.4</td>\n      <td>I enjoy life, play guitar, love basketball, an...</td>\n      <td>[i, enjoy, life, , play, guitar, , love, baske...</td>\n    </tr>\n    <tr>\n      <th>1188</th>\n      <td>m_0189</td>\n      <td>11371</td>\n      <td>9.1</td>\n      <td>Hi Im Jason.  Im originally from Pittsburgh, P...</td>\n      <td>[hi, im, jason, , , im, originally, from, pitt...</td>\n    </tr>\n    <tr>\n      <th>1425</th>\n      <td>m_0426</td>\n      <td>111</td>\n      <td>9.4</td>\n      <td>My name is Isaac, im almost 20 and going to co...</td>\n      <td>[my, name, is, isaac, , im, almost, 20, and, g...</td>\n    </tr>\n    <tr>\n      <th>1649</th>\n      <td>m_0650</td>\n      <td>4055</td>\n      <td>8.9</td>\n      <td>Hey What's up..I'm Jay. I like to hang out wit...</td>\n      <td>[hey, what's, up, , i'm, jay, , i, like, to, h...</td>\n    </tr>\n    <tr>\n      <th>1675</th>\n      <td>m_0676</td>\n      <td>785</td>\n      <td>9.6</td>\n      <td>utica, ny. interests include basketball, shawn...</td>\n      <td>[utica, , ny, , interests, include, basketball...</td>\n    </tr>\n    <tr>\n      <th>1904</th>\n      <td>m_0905</td>\n      <td>178</td>\n      <td>9.3</td>\n      <td>Well i am 6'2&amp;quot; around 180 lbs.  I am from...</td>\n      <td>[well, i, am, 6'2, quot, , around, 180, lbs, ,...</td>\n    </tr>\n    <tr>\n      <th>1979</th>\n      <td>m_0980</td>\n      <td>3571</td>\n      <td>9.8</td>\n      <td>I'm 5'10. I enjoy playing basketball and love ...</td>\n      <td>[i'm, 5'10, , i, enjoy, playing, basketball, a...</td>\n    </tr>\n  </tbody>\n</table>\n</div>"
     },
     "execution_count": 8,
     "metadata": {},
     "output_type": "execute_result"
    }
   ],
   "source": [
    "df.loc[df['text'].str.contains('basketball')]"
   ],
   "metadata": {
    "collapsed": false
   }
  },
  {
   "cell_type": "code",
   "execution_count": 8,
   "outputs": [],
   "source": [],
   "metadata": {
    "collapsed": false
   }
  }
 ],
 "metadata": {
  "kernelspec": {
   "display_name": "Python 3",
   "language": "python",
   "name": "python3"
  },
  "language_info": {
   "codemirror_mode": {
    "name": "ipython",
    "version": 2
   },
   "file_extension": ".py",
   "mimetype": "text/x-python",
   "name": "python",
   "nbconvert_exporter": "python",
   "pygments_lexer": "ipython2",
   "version": "2.7.6"
  }
 },
 "nbformat": 4,
 "nbformat_minor": 0
}
