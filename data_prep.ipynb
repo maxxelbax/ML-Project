{
 "cells": [
  {
   "cell_type": "code",
   "execution_count": 1,
   "outputs": [],
   "source": [
    "from zipfile import ZipFile\n",
    "\n",
    "# loading the temp.zip and creating a zip object\n",
    "with ZipFile('data/hot_or_not_image_and_rating_data.zip', 'r') as zObject:\n",
    "    # Extracting all the members of the zip\n",
    "    zObject.extractall(path='data')"
   ],
   "metadata": {
    "collapsed": false
   }
  },
  {
   "cell_type": "code",
   "execution_count": 8,
   "outputs": [],
   "source": [
    "import shutil\n",
    "from os import listdir, rename, makedirs\n",
    "from tqdm.notebook import tqdm"
   ],
   "metadata": {
    "collapsed": false
   }
  },
  {
   "cell_type": "code",
   "execution_count": 10,
   "metadata": {
    "collapsed": true
   },
   "outputs": [
    {
     "data": {
      "text/plain": "  0%|          | 0/2001 [00:00<?, ?it/s]",
      "application/vnd.jupyter.widget-view+json": {
       "version_major": 2,
       "version_minor": 0,
       "model_id": "0157145ebb484053a077709a2b096a48"
      }
     },
     "metadata": {},
     "output_type": "display_data"
    },
    {
     "data": {
      "text/plain": "  0%|          | 0/2001 [00:00<?, ?it/s]",
      "application/vnd.jupyter.widget-view+json": {
       "version_major": 2,
       "version_minor": 0,
       "model_id": "5ed6816da23640e9bb08780192b4a303"
      }
     },
     "metadata": {},
     "output_type": "display_data"
    }
   ],
   "source": [
    "makedirs('data/images', exist_ok=True)\n",
    "makedirs('data/texts', exist_ok=True)\n",
    "path_dir = 'data'\n",
    "for gender in ('female', 'male'):\n",
    "    for file in tqdm(listdir(f'{path_dir}/{gender}')):\n",
    "        if file[-3:] == 'jpg':\n",
    "            file_type = 'images'\n",
    "        elif file[-3:] == 'txt':\n",
    "            file_type = 'texts'\n",
    "        else:\n",
    "            continue\n",
    "        shutil.copy(f'{path_dir}/{gender}/{file}', f'{path_dir}/{file_type}/{file}')\n",
    "        rename(f'{path_dir}/{file_type}/{file}', f'{path_dir}/{file_type}/{gender[0]}_{file}')"
   ]
  },
  {
   "cell_type": "code",
   "execution_count": null,
   "outputs": [],
   "source": [],
   "metadata": {
    "collapsed": false
   }
  }
 ],
 "metadata": {
  "kernelspec": {
   "display_name": "Python 3",
   "language": "python",
   "name": "python3"
  },
  "language_info": {
   "codemirror_mode": {
    "name": "ipython",
    "version": 2
   },
   "file_extension": ".py",
   "mimetype": "text/x-python",
   "name": "python",
   "nbconvert_exporter": "python",
   "pygments_lexer": "ipython2",
   "version": "2.7.6"
  }
 },
 "nbformat": 4,
 "nbformat_minor": 0
}
